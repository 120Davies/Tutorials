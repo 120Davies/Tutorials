{
 "cells": [
  {
   "cell_type": "markdown",
   "metadata": {},
   "source": [
    "# Book Recommendation System"
   ]
  },
  {
   "cell_type": "code",
   "execution_count": 1,
   "metadata": {},
   "outputs": [
    {
     "name": "stderr",
     "output_type": "stream",
     "text": [
      "Using TensorFlow backend.\n"
     ]
    }
   ],
   "source": [
    "import numpy as np\n",
    "import pandas as pd\n",
    "import matplotlib.pyplot as plt\n",
    "import os\n",
    "import warnings\n",
    "\n",
    "from keras.layers import Input, Embedding, Flatten, Dot, Dense\n",
    "from keras.models import Model\n",
    "\n",
    "warnings.filterwarnings('ignore')\n",
    "%matplotlib inline"
   ]
  },
  {
   "cell_type": "code",
   "execution_count": 2,
   "metadata": {},
   "outputs": [],
   "source": [
    "dataset = pd.read_csv('ratings.csv')"
   ]
  },
  {
   "cell_type": "code",
   "execution_count": 3,
   "metadata": {},
   "outputs": [
    {
     "data": {
      "text/html": [
       "<div>\n",
       "<style scoped>\n",
       "    .dataframe tbody tr th:only-of-type {\n",
       "        vertical-align: middle;\n",
       "    }\n",
       "\n",
       "    .dataframe tbody tr th {\n",
       "        vertical-align: top;\n",
       "    }\n",
       "\n",
       "    .dataframe thead th {\n",
       "        text-align: right;\n",
       "    }\n",
       "</style>\n",
       "<table border=\"1\" class=\"dataframe\">\n",
       "  <thead>\n",
       "    <tr style=\"text-align: right;\">\n",
       "      <th></th>\n",
       "      <th>book_id</th>\n",
       "      <th>user_id</th>\n",
       "      <th>rating</th>\n",
       "    </tr>\n",
       "  </thead>\n",
       "  <tbody>\n",
       "    <tr>\n",
       "      <th>0</th>\n",
       "      <td>1</td>\n",
       "      <td>314</td>\n",
       "      <td>5</td>\n",
       "    </tr>\n",
       "    <tr>\n",
       "      <th>1</th>\n",
       "      <td>1</td>\n",
       "      <td>439</td>\n",
       "      <td>3</td>\n",
       "    </tr>\n",
       "    <tr>\n",
       "      <th>2</th>\n",
       "      <td>1</td>\n",
       "      <td>588</td>\n",
       "      <td>5</td>\n",
       "    </tr>\n",
       "    <tr>\n",
       "      <th>3</th>\n",
       "      <td>1</td>\n",
       "      <td>1169</td>\n",
       "      <td>4</td>\n",
       "    </tr>\n",
       "    <tr>\n",
       "      <th>4</th>\n",
       "      <td>1</td>\n",
       "      <td>1185</td>\n",
       "      <td>4</td>\n",
       "    </tr>\n",
       "  </tbody>\n",
       "</table>\n",
       "</div>"
      ],
      "text/plain": [
       "   book_id  user_id  rating\n",
       "0        1      314       5\n",
       "1        1      439       3\n",
       "2        1      588       5\n",
       "3        1     1169       4\n",
       "4        1     1185       4"
      ]
     },
     "execution_count": 3,
     "metadata": {},
     "output_type": "execute_result"
    }
   ],
   "source": [
    "dataset.head()"
   ]
  },
  {
   "cell_type": "code",
   "execution_count": 4,
   "metadata": {},
   "outputs": [
    {
     "data": {
      "text/plain": [
       "(981756, 3)"
      ]
     },
     "execution_count": 4,
     "metadata": {},
     "output_type": "execute_result"
    }
   ],
   "source": [
    "dataset.shape"
   ]
  },
  {
   "cell_type": "code",
   "execution_count": 5,
   "metadata": {},
   "outputs": [],
   "source": [
    "from sklearn.model_selection import train_test_split\n",
    "train, test = train_test_split(dataset, test_size=0.2, random_state=42)"
   ]
  },
  {
   "cell_type": "code",
   "execution_count": 6,
   "metadata": {},
   "outputs": [
    {
     "data": {
      "text/html": [
       "<div>\n",
       "<style scoped>\n",
       "    .dataframe tbody tr th:only-of-type {\n",
       "        vertical-align: middle;\n",
       "    }\n",
       "\n",
       "    .dataframe tbody tr th {\n",
       "        vertical-align: top;\n",
       "    }\n",
       "\n",
       "    .dataframe thead th {\n",
       "        text-align: right;\n",
       "    }\n",
       "</style>\n",
       "<table border=\"1\" class=\"dataframe\">\n",
       "  <thead>\n",
       "    <tr style=\"text-align: right;\">\n",
       "      <th></th>\n",
       "      <th>book_id</th>\n",
       "      <th>user_id</th>\n",
       "      <th>rating</th>\n",
       "    </tr>\n",
       "  </thead>\n",
       "  <tbody>\n",
       "    <tr>\n",
       "      <th>341848</th>\n",
       "      <td>3423</td>\n",
       "      <td>4608</td>\n",
       "      <td>2</td>\n",
       "    </tr>\n",
       "    <tr>\n",
       "      <th>964349</th>\n",
       "      <td>9811</td>\n",
       "      <td>36373</td>\n",
       "      <td>5</td>\n",
       "    </tr>\n",
       "    <tr>\n",
       "      <th>645459</th>\n",
       "      <td>6485</td>\n",
       "      <td>2957</td>\n",
       "      <td>4</td>\n",
       "    </tr>\n",
       "    <tr>\n",
       "      <th>74960</th>\n",
       "      <td>750</td>\n",
       "      <td>42400</td>\n",
       "      <td>3</td>\n",
       "    </tr>\n",
       "    <tr>\n",
       "      <th>358670</th>\n",
       "      <td>3591</td>\n",
       "      <td>36886</td>\n",
       "      <td>5</td>\n",
       "    </tr>\n",
       "  </tbody>\n",
       "</table>\n",
       "</div>"
      ],
      "text/plain": [
       "        book_id  user_id  rating\n",
       "341848     3423     4608       2\n",
       "964349     9811    36373       5\n",
       "645459     6485     2957       4\n",
       "74960       750    42400       3\n",
       "358670     3591    36886       5"
      ]
     },
     "execution_count": 6,
     "metadata": {},
     "output_type": "execute_result"
    }
   ],
   "source": [
    "train.head()"
   ]
  },
  {
   "cell_type": "code",
   "execution_count": 7,
   "metadata": {},
   "outputs": [
    {
     "data": {
      "text/html": [
       "<div>\n",
       "<style scoped>\n",
       "    .dataframe tbody tr th:only-of-type {\n",
       "        vertical-align: middle;\n",
       "    }\n",
       "\n",
       "    .dataframe tbody tr th {\n",
       "        vertical-align: top;\n",
       "    }\n",
       "\n",
       "    .dataframe thead th {\n",
       "        text-align: right;\n",
       "    }\n",
       "</style>\n",
       "<table border=\"1\" class=\"dataframe\">\n",
       "  <thead>\n",
       "    <tr style=\"text-align: right;\">\n",
       "      <th></th>\n",
       "      <th>book_id</th>\n",
       "      <th>user_id</th>\n",
       "      <th>rating</th>\n",
       "    </tr>\n",
       "  </thead>\n",
       "  <tbody>\n",
       "    <tr>\n",
       "      <th>646451</th>\n",
       "      <td>6495</td>\n",
       "      <td>19643</td>\n",
       "      <td>5</td>\n",
       "    </tr>\n",
       "    <tr>\n",
       "      <th>614851</th>\n",
       "      <td>6175</td>\n",
       "      <td>8563</td>\n",
       "      <td>4</td>\n",
       "    </tr>\n",
       "    <tr>\n",
       "      <th>974393</th>\n",
       "      <td>9920</td>\n",
       "      <td>52110</td>\n",
       "      <td>3</td>\n",
       "    </tr>\n",
       "    <tr>\n",
       "      <th>21471</th>\n",
       "      <td>215</td>\n",
       "      <td>33864</td>\n",
       "      <td>5</td>\n",
       "    </tr>\n",
       "    <tr>\n",
       "      <th>272540</th>\n",
       "      <td>2728</td>\n",
       "      <td>16587</td>\n",
       "      <td>3</td>\n",
       "    </tr>\n",
       "  </tbody>\n",
       "</table>\n",
       "</div>"
      ],
      "text/plain": [
       "        book_id  user_id  rating\n",
       "646451     6495    19643       5\n",
       "614851     6175     8563       4\n",
       "974393     9920    52110       3\n",
       "21471       215    33864       5\n",
       "272540     2728    16587       3"
      ]
     },
     "execution_count": 7,
     "metadata": {},
     "output_type": "execute_result"
    }
   ],
   "source": [
    "test.head()"
   ]
  },
  {
   "cell_type": "code",
   "execution_count": 8,
   "metadata": {},
   "outputs": [
    {
     "data": {
      "text/plain": [
       "53424"
      ]
     },
     "execution_count": 8,
     "metadata": {},
     "output_type": "execute_result"
    }
   ],
   "source": [
    "n_users = len(dataset.user_id.unique())\n",
    "n_users"
   ]
  },
  {
   "cell_type": "code",
   "execution_count": 9,
   "metadata": {},
   "outputs": [
    {
     "data": {
      "text/plain": [
       "10000"
      ]
     },
     "execution_count": 9,
     "metadata": {},
     "output_type": "execute_result"
    }
   ],
   "source": [
    "n_books = len(dataset.book_id.unique())\n",
    "n_books"
   ]
  },
  {
   "cell_type": "code",
   "execution_count": 10,
   "metadata": {},
   "outputs": [],
   "source": [
    "book_input = Input(shape=[1], name=\"Book-Input\")\n",
    "book_embedding = Embedding(n_books+1, 5, name=\"Book-Embedding\")(book_input)\n",
    "book_vec = Flatten(name=\"Flatten-Books\")(book_embedding)\n",
    "\n",
    "user_input = Input(shape=[1], name=\"User-Input\")\n",
    "user_embedding = Embedding(n_users+1, 5, name=\"User-Embedding\")(user_input)\n",
    "user_vec = Flatten(name=\"Flatten-Users\")(user_embedding)\n",
    "\n",
    "prod = Dot(name=\"Dot-Product\", axes=1)([book_vec, user_vec])\n",
    "model = Model([user_input, book_input], prod)\n",
    "model.compile('adam', 'mean_squared_error')"
   ]
  },
  {
   "cell_type": "code",
   "execution_count": 11,
   "metadata": {
    "scrolled": true
   },
   "outputs": [
    {
     "name": "stdout",
     "output_type": "stream",
     "text": [
      "Epoch 1/5\n",
      "785404/785404 [==============================] - 115s 146us/step - loss: 13.0542\n",
      "Epoch 2/5\n",
      "785404/785404 [==============================] - 110s 141us/step - loss: 3.7277\n",
      "Epoch 3/5\n",
      "785404/785404 [==============================] - 107s 137us/step - loss: 1.6301\n",
      "Epoch 4/5\n",
      "785404/785404 [==============================] - 113s 144us/step - loss: 1.1520\n",
      "Epoch 5/5\n",
      "785404/785404 [==============================] - 116s 148us/step - loss: 0.9538\n"
     ]
    },
    {
     "data": {
      "image/png": "[encoded data removed]",
      "text/plain": [
       "<Figure size 432x288 with 1 Axes>"
      ]
     },
     "metadata": {
      "needs_background": "light"
     },
     "output_type": "display_data"
    }
   ],
   "source": [
    "from keras.models import load_model\n",
    "\n",
    "if os.path.exists('regression_model.h5'):\n",
    "    model = load_model('regression_model.h5')\n",
    "else:\n",
    "    history = model.fit([train.user_id, train.book_id], train.rating, epochs=5, verbose=1)\n",
    "    model.save('regression_model.h5')\n",
    "    plt.plot(history.history['loss'])\n",
    "    plt.xlabel(\"Epochs\")\n",
    "    plt.ylabel(\"Training Error\")"
   ]
  },
  {
   "cell_type": "code",
   "execution_count": 12,
   "metadata": {},
   "outputs": [
    {
     "name": "stdout",
     "output_type": "stream",
     "text": [
      "196352/196352 [==============================] - 10s 50us/step\n"
     ]
    },
    {
     "data": {
      "text/plain": [
       "1.1337533176328982"
      ]
     },
     "execution_count": 12,
     "metadata": {},
     "output_type": "execute_result"
    }
   ],
   "source": [
    "model.evaluate([test.user_id, test.book_id], test.rating)"
   ]
  },
  {
   "cell_type": "code",
   "execution_count": 13,
   "metadata": {},
   "outputs": [
    {
     "name": "stdout",
     "output_type": "stream",
     "text": [
      "[4.697358] 5\n",
      "[3.7322755] 4\n",
      "[3.161058] 3\n",
      "[4.2724395] 5\n",
      "[3.0228086] 3\n",
      "[4.424722] 3\n",
      "[3.9317112] 3\n",
      "[4.8768115] 4\n",
      "[3.9131103] 3\n",
      "[4.5833607] 5\n"
     ]
    },
    {
     "data": {
      "text/plain": [
       "[None, None, None, None, None, None, None, None, None, None]"
      ]
     },
     "execution_count": 13,
     "metadata": {},
     "output_type": "execute_result"
    }
   ],
   "source": [
    "predictions = model.predict([test.user_id.head(10), test.book_id.head(10)])\n",
    "\n",
    "[print(predictions[i], test.rating.iloc[i]) for i in range(0,10)]"
   ]
  },
  {
   "cell_type": "markdown",
   "metadata": {},
   "source": [
    "## Visualizing Embeddings"
   ]
  },
  {
   "cell_type": "code",
   "execution_count": 14,
   "metadata": {},
   "outputs": [],
   "source": [
    "# Extract embeddings\n",
    "book_em = model.get_layer('Book-Embedding')\n",
    "book_em_weights = book_em.get_weights()[0]"
   ]
  },
  {
   "cell_type": "code",
   "execution_count": 15,
   "metadata": {},
   "outputs": [
    {
     "data": {
      "text/plain": [
       "array([[-0.04159955, -0.01796059,  0.02388425,  0.04473335, -0.00462532],\n",
       "       [-1.3159535 ,  1.4895648 , -1.1543206 ,  1.4727516 ,  1.5827322 ],\n",
       "       [-1.3764862 ,  1.4382463 , -0.6511599 ,  1.3203669 ,  1.4942939 ],\n",
       "       [-0.8390841 ,  1.1319371 , -1.4622757 ,  1.0212495 ,  1.2480013 ],\n",
       "       [-1.3968911 ,  1.5591388 , -0.29752284,  1.6187718 ,  1.6268913 ]],\n",
       "      dtype=float32)"
      ]
     },
     "execution_count": 15,
     "metadata": {},
     "output_type": "execute_result"
    }
   ],
   "source": [
    "book_em_weights[:5]"
   ]
  },
  {
   "cell_type": "code",
   "execution_count": 16,
   "metadata": {},
   "outputs": [
    {
     "data": {
      "text/plain": [
       "<matplotlib.axes._subplots.AxesSubplot at 0x1ca67ea0a58>"
      ]
     },
     "execution_count": 16,
     "metadata": {},
     "output_type": "execute_result"
    },
    {
     "data": {
      "image/png": "[encoded data removed]",
      "text/plain": [
       "<Figure size 432x288 with 1 Axes>"
      ]
     },
     "metadata": {
      "needs_background": "light"
     },
     "output_type": "display_data"
    }
   ],
   "source": [
    "from sklearn.decomposition import PCA\n",
    "import seaborn as sns\n",
    "\n",
    "pca = PCA(n_components=2)\n",
    "pca_result = pca.fit_transform(book_em_weights)\n",
    "sns.scatterplot(x=pca_result[:,0], y=pca_result[:,1])"
   ]
  },
  {
   "cell_type": "code",
   "execution_count": 17,
   "metadata": {},
   "outputs": [
    {
     "data": {
      "text/plain": [
       "1.0000001"
      ]
     },
     "execution_count": 17,
     "metadata": {},
     "output_type": "execute_result"
    }
   ],
   "source": [
    "book_em_weights = book_em_weights / np.linalg.norm(book_em_weights, axis = 1).reshape((-1, 1))\n",
    "book_em_weights[0][:10]\n",
    "np.sum(np.square(book_em_weights[0]))"
   ]
  },
  {
   "cell_type": "code",
   "execution_count": 18,
   "metadata": {},
   "outputs": [
    {
     "data": {
      "text/plain": [
       "<matplotlib.axes._subplots.AxesSubplot at 0x1ca67f8e438>"
      ]
     },
     "execution_count": 18,
     "metadata": {},
     "output_type": "execute_result"
    },
    {
     "data": {
      "image/png": "[encoded data removed]",
      "text/plain": [
       "<Figure size 432x288 with 1 Axes>"
      ]
     },
     "metadata": {
      "needs_background": "light"
     },
     "output_type": "display_data"
    }
   ],
   "source": [
    "pca = PCA(n_components=2)\n",
    "pca_result = pca.fit_transform(book_em_weights)\n",
    "sns.scatterplot(x=pca_result[:,0], y=pca_result[:,1])"
   ]
  },
  {
   "cell_type": "code",
   "execution_count": 19,
   "metadata": {},
   "outputs": [
    {
     "name": "stdout",
     "output_type": "stream",
     "text": [
      "[t-SNE] Computing 121 nearest neighbors...\n",
      "[t-SNE] Indexed 10001 samples in 0.008s...\n",
      "[t-SNE] Computed neighbors for 10001 samples in 0.968s...\n",
      "[t-SNE] Computed conditional probabilities for sample 1000 / 10001\n",
      "[t-SNE] Computed conditional probabilities for sample 2000 / 10001\n",
      "[t-SNE] Computed conditional probabilities for sample 3000 / 10001\n",
      "[t-SNE] Computed conditional probabilities for sample 4000 / 10001\n",
      "[t-SNE] Computed conditional probabilities for sample 5000 / 10001\n",
      "[t-SNE] Computed conditional probabilities for sample 6000 / 10001\n",
      "[t-SNE] Computed conditional probabilities for sample 7000 / 10001\n",
      "[t-SNE] Computed conditional probabilities for sample 8000 / 10001\n",
      "[t-SNE] Computed conditional probabilities for sample 9000 / 10001\n",
      "[t-SNE] Computed conditional probabilities for sample 10000 / 10001\n",
      "[t-SNE] Computed conditional probabilities for sample 10001 / 10001\n",
      "[t-SNE] Mean sigma: 0.017052\n",
      "[t-SNE] KL divergence after 250 iterations with early exaggeration: 83.058090\n",
      "[t-SNE] KL divergence after 300 iterations: 2.835064\n"
     ]
    }
   ],
   "source": [
    "from sklearn.manifold import TSNE\n",
    "\n",
    "tsne = TSNE(n_components=2, verbose=1, perplexity=40, n_iter=300)\n",
    "tnse_results = tsne.fit_transform(book_em_weights)"
   ]
  },
  {
   "cell_type": "code",
   "execution_count": 20,
   "metadata": {},
   "outputs": [
    {
     "data": {
      "text/plain": [
       "<matplotlib.axes._subplots.AxesSubplot at 0x1ca6c125a90>"
      ]
     },
     "execution_count": 20,
     "metadata": {},
     "output_type": "execute_result"
    },
    {
     "data": {
      "image/png": "[encoded data removed]",
      "text/plain": [
       "<Figure size 432x288 with 1 Axes>"
      ]
     },
     "metadata": {
      "needs_background": "light"
     },
     "output_type": "display_data"
    }
   ],
   "source": [
    "sns.scatterplot(x=tnse_results[:,0], y=tnse_results[:,1])"
   ]
  },
  {
   "cell_type": "markdown",
   "metadata": {},
   "source": [
    "## Making Recommendations"
   ]
  },
  {
   "cell_type": "code",
   "execution_count": 21,
   "metadata": {},
   "outputs": [
    {
     "data": {
      "text/plain": [
       "array([1, 2, 3, 4, 5])"
      ]
     },
     "execution_count": 21,
     "metadata": {},
     "output_type": "execute_result"
    }
   ],
   "source": [
    "# Creating dataset for making recommendations for the first user\n",
    "book_data = np.array(list(set(dataset.book_id)))\n",
    "book_data[:5]"
   ]
  },
  {
   "cell_type": "code",
   "execution_count": 22,
   "metadata": {},
   "outputs": [
    {
     "data": {
      "text/plain": [
       "array([1, 1, 1, 1, 1])"
      ]
     },
     "execution_count": 22,
     "metadata": {},
     "output_type": "execute_result"
    }
   ],
   "source": [
    "user = np.array([1 for i in range(len(book_data))])\n",
    "user[:5]"
   ]
  },
  {
   "cell_type": "code",
   "execution_count": 23,
   "metadata": {},
   "outputs": [
    {
     "data": {
      "text/plain": [
       "array([5858, 9517, 8998, 7660, 8258], dtype=int64)"
      ]
     },
     "execution_count": 23,
     "metadata": {},
     "output_type": "execute_result"
    }
   ],
   "source": [
    "predictions = model.predict([user, book_data])\n",
    "\n",
    "predictions = np.array([a[0] for a in predictions])\n",
    "\n",
    "recommended_book_ids = (-predictions).argsort()[:5]\n",
    "\n",
    "recommended_book_ids"
   ]
  },
  {
   "cell_type": "code",
   "execution_count": 24,
   "metadata": {},
   "outputs": [
    {
     "data": {
      "text/plain": [
       "array([4.311879 , 4.244976 , 4.1983595, 4.1297374, 4.128523 ],\n",
       "      dtype=float32)"
      ]
     },
     "execution_count": 24,
     "metadata": {},
     "output_type": "execute_result"
    }
   ],
   "source": [
    "# print predicted scores\n",
    "predictions[recommended_book_ids]"
   ]
  },
  {
   "cell_type": "code",
   "execution_count": 25,
   "metadata": {},
   "outputs": [
    {
     "data": {
      "text/html": [
       "<div>\n",
       "<style scoped>\n",
       "    .dataframe tbody tr th:only-of-type {\n",
       "        vertical-align: middle;\n",
       "    }\n",
       "\n",
       "    .dataframe tbody tr th {\n",
       "        vertical-align: top;\n",
       "    }\n",
       "\n",
       "    .dataframe thead th {\n",
       "        text-align: right;\n",
       "    }\n",
       "</style>\n",
       "<table border=\"1\" class=\"dataframe\">\n",
       "  <thead>\n",
       "    <tr style=\"text-align: right;\">\n",
       "      <th></th>\n",
       "      <th>id</th>\n",
       "      <th>book_id</th>\n",
       "      <th>best_book_id</th>\n",
       "      <th>work_id</th>\n",
       "      <th>books_count</th>\n",
       "      <th>isbn</th>\n",
       "      <th>isbn13</th>\n",
       "      <th>authors</th>\n",
       "      <th>original_publication_year</th>\n",
       "      <th>original_title</th>\n",
       "      <th>...</th>\n",
       "      <th>ratings_count</th>\n",
       "      <th>work_ratings_count</th>\n",
       "      <th>work_text_reviews_count</th>\n",
       "      <th>ratings_1</th>\n",
       "      <th>ratings_2</th>\n",
       "      <th>ratings_3</th>\n",
       "      <th>ratings_4</th>\n",
       "      <th>ratings_5</th>\n",
       "      <th>image_url</th>\n",
       "      <th>small_image_url</th>\n",
       "    </tr>\n",
       "  </thead>\n",
       "  <tbody>\n",
       "    <tr>\n",
       "      <th>0</th>\n",
       "      <td>1</td>\n",
       "      <td>2767052</td>\n",
       "      <td>2767052</td>\n",
       "      <td>2792775</td>\n",
       "      <td>272</td>\n",
       "      <td>439023483</td>\n",
       "      <td>9.780439e+12</td>\n",
       "      <td>Suzanne Collins</td>\n",
       "      <td>2008.0</td>\n",
       "      <td>The Hunger Games</td>\n",
       "      <td>...</td>\n",
       "      <td>4780653</td>\n",
       "      <td>4942365</td>\n",
       "      <td>155254</td>\n",
       "      <td>66715</td>\n",
       "      <td>127936</td>\n",
       "      <td>560092</td>\n",
       "      <td>1481305</td>\n",
       "      <td>2706317</td>\n",
       "      <td>https://images.gr-assets.com/books/1447303603m...</td>\n",
       "      <td>https://images.gr-assets.com/books/1447303603s...</td>\n",
       "    </tr>\n",
       "    <tr>\n",
       "      <th>1</th>\n",
       "      <td>2</td>\n",
       "      <td>3</td>\n",
       "      <td>3</td>\n",
       "      <td>4640799</td>\n",
       "      <td>491</td>\n",
       "      <td>439554934</td>\n",
       "      <td>9.780440e+12</td>\n",
       "      <td>J.K. Rowling, Mary GrandPré</td>\n",
       "      <td>1997.0</td>\n",
       "      <td>Harry Potter and the Philosopher's Stone</td>\n",
       "      <td>...</td>\n",
       "      <td>4602479</td>\n",
       "      <td>4800065</td>\n",
       "      <td>75867</td>\n",
       "      <td>75504</td>\n",
       "      <td>101676</td>\n",
       "      <td>455024</td>\n",
       "      <td>1156318</td>\n",
       "      <td>3011543</td>\n",
       "      <td>https://images.gr-assets.com/books/1474154022m...</td>\n",
       "      <td>https://images.gr-assets.com/books/1474154022s...</td>\n",
       "    </tr>\n",
       "    <tr>\n",
       "      <th>2</th>\n",
       "      <td>3</td>\n",
       "      <td>41865</td>\n",
       "      <td>41865</td>\n",
       "      <td>3212258</td>\n",
       "      <td>226</td>\n",
       "      <td>316015849</td>\n",
       "      <td>9.780316e+12</td>\n",
       "      <td>Stephenie Meyer</td>\n",
       "      <td>2005.0</td>\n",
       "      <td>Twilight</td>\n",
       "      <td>...</td>\n",
       "      <td>3866839</td>\n",
       "      <td>3916824</td>\n",
       "      <td>95009</td>\n",
       "      <td>456191</td>\n",
       "      <td>436802</td>\n",
       "      <td>793319</td>\n",
       "      <td>875073</td>\n",
       "      <td>1355439</td>\n",
       "      <td>https://images.gr-assets.com/books/1361039443m...</td>\n",
       "      <td>https://images.gr-assets.com/books/1361039443s...</td>\n",
       "    </tr>\n",
       "    <tr>\n",
       "      <th>3</th>\n",
       "      <td>4</td>\n",
       "      <td>2657</td>\n",
       "      <td>2657</td>\n",
       "      <td>3275794</td>\n",
       "      <td>487</td>\n",
       "      <td>61120081</td>\n",
       "      <td>9.780061e+12</td>\n",
       "      <td>Harper Lee</td>\n",
       "      <td>1960.0</td>\n",
       "      <td>To Kill a Mockingbird</td>\n",
       "      <td>...</td>\n",
       "      <td>3198671</td>\n",
       "      <td>3340896</td>\n",
       "      <td>72586</td>\n",
       "      <td>60427</td>\n",
       "      <td>117415</td>\n",
       "      <td>446835</td>\n",
       "      <td>1001952</td>\n",
       "      <td>1714267</td>\n",
       "      <td>https://images.gr-assets.com/books/1361975680m...</td>\n",
       "      <td>https://images.gr-assets.com/books/1361975680s...</td>\n",
       "    </tr>\n",
       "    <tr>\n",
       "      <th>4</th>\n",
       "      <td>5</td>\n",
       "      <td>4671</td>\n",
       "      <td>4671</td>\n",
       "      <td>245494</td>\n",
       "      <td>1356</td>\n",
       "      <td>743273567</td>\n",
       "      <td>9.780743e+12</td>\n",
       "      <td>F. Scott Fitzgerald</td>\n",
       "      <td>1925.0</td>\n",
       "      <td>The Great Gatsby</td>\n",
       "      <td>...</td>\n",
       "      <td>2683664</td>\n",
       "      <td>2773745</td>\n",
       "      <td>51992</td>\n",
       "      <td>86236</td>\n",
       "      <td>197621</td>\n",
       "      <td>606158</td>\n",
       "      <td>936012</td>\n",
       "      <td>947718</td>\n",
       "      <td>https://images.gr-assets.com/books/1490528560m...</td>\n",
       "      <td>https://images.gr-assets.com/books/1490528560s...</td>\n",
       "    </tr>\n",
       "  </tbody>\n",
       "</table>\n",
       "<p>5 rows × 23 columns</p>\n",
       "</div>"
      ],
      "text/plain": [
       "   id  book_id  best_book_id  work_id  books_count       isbn        isbn13  \\\n",
       "0   1  2767052       2767052  2792775          272  439023483  9.780439e+12   \n",
       "1   2        3             3  4640799          491  439554934  9.780440e+12   \n",
       "2   3    41865         41865  3212258          226  316015849  9.780316e+12   \n",
       "3   4     2657          2657  3275794          487   61120081  9.780061e+12   \n",
       "4   5     4671          4671   245494         1356  743273567  9.780743e+12   \n",
       "\n",
       "                       authors  original_publication_year  \\\n",
       "0              Suzanne Collins                     2008.0   \n",
       "1  J.K. Rowling, Mary GrandPré                     1997.0   \n",
       "2              Stephenie Meyer                     2005.0   \n",
       "3                   Harper Lee                     1960.0   \n",
       "4          F. Scott Fitzgerald                     1925.0   \n",
       "\n",
       "                             original_title  \\\n",
       "0                          The Hunger Games   \n",
       "1  Harry Potter and the Philosopher's Stone   \n",
       "2                                  Twilight   \n",
       "3                     To Kill a Mockingbird   \n",
       "4                          The Great Gatsby   \n",
       "\n",
       "                         ...                         ratings_count  \\\n",
       "0                        ...                               4780653   \n",
       "1                        ...                               4602479   \n",
       "2                        ...                               3866839   \n",
       "3                        ...                               3198671   \n",
       "4                        ...                               2683664   \n",
       "\n",
       "  work_ratings_count  work_text_reviews_count  ratings_1  ratings_2  \\\n",
       "0            4942365                   155254      66715     127936   \n",
       "1            4800065                    75867      75504     101676   \n",
       "2            3916824                    95009     456191     436802   \n",
       "3            3340896                    72586      60427     117415   \n",
       "4            2773745                    51992      86236     197621   \n",
       "\n",
       "   ratings_3  ratings_4  ratings_5  \\\n",
       "0     560092    1481305    2706317   \n",
       "1     455024    1156318    3011543   \n",
       "2     793319     875073    1355439   \n",
       "3     446835    1001952    1714267   \n",
       "4     606158     936012     947718   \n",
       "\n",
       "                                           image_url  \\\n",
       "0  https://images.gr-assets.com/books/1447303603m...   \n",
       "1  https://images.gr-assets.com/books/1474154022m...   \n",
       "2  https://images.gr-assets.com/books/1361039443m...   \n",
       "3  https://images.gr-assets.com/books/1361975680m...   \n",
       "4  https://images.gr-assets.com/books/1490528560m...   \n",
       "\n",
       "                                     small_image_url  \n",
       "0  https://images.gr-assets.com/books/1447303603s...  \n",
       "1  https://images.gr-assets.com/books/1474154022s...  \n",
       "2  https://images.gr-assets.com/books/1361039443s...  \n",
       "3  https://images.gr-assets.com/books/1361975680s...  \n",
       "4  https://images.gr-assets.com/books/1490528560s...  \n",
       "\n",
       "[5 rows x 23 columns]"
      ]
     },
     "execution_count": 25,
     "metadata": {},
     "output_type": "execute_result"
    }
   ],
   "source": [
    "books = pd.read_csv('books.csv')\n",
    "books.head()"
   ]
  },
  {
   "cell_type": "code",
   "execution_count": 26,
   "metadata": {},
   "outputs": [
    {
     "data": {
      "text/html": [
       "<div>\n",
       "<style scoped>\n",
       "    .dataframe tbody tr th:only-of-type {\n",
       "        vertical-align: middle;\n",
       "    }\n",
       "\n",
       "    .dataframe tbody tr th {\n",
       "        vertical-align: top;\n",
       "    }\n",
       "\n",
       "    .dataframe thead th {\n",
       "        text-align: right;\n",
       "    }\n",
       "</style>\n",
       "<table border=\"1\" class=\"dataframe\">\n",
       "  <thead>\n",
       "    <tr style=\"text-align: right;\">\n",
       "      <th></th>\n",
       "      <th>id</th>\n",
       "      <th>book_id</th>\n",
       "      <th>best_book_id</th>\n",
       "      <th>work_id</th>\n",
       "      <th>books_count</th>\n",
       "      <th>isbn</th>\n",
       "      <th>isbn13</th>\n",
       "      <th>authors</th>\n",
       "      <th>original_publication_year</th>\n",
       "      <th>original_title</th>\n",
       "      <th>...</th>\n",
       "      <th>ratings_count</th>\n",
       "      <th>work_ratings_count</th>\n",
       "      <th>work_text_reviews_count</th>\n",
       "      <th>ratings_1</th>\n",
       "      <th>ratings_2</th>\n",
       "      <th>ratings_3</th>\n",
       "      <th>ratings_4</th>\n",
       "      <th>ratings_5</th>\n",
       "      <th>image_url</th>\n",
       "      <th>small_image_url</th>\n",
       "    </tr>\n",
       "  </thead>\n",
       "  <tbody>\n",
       "    <tr>\n",
       "      <th>5857</th>\n",
       "      <td>5858</td>\n",
       "      <td>16297</td>\n",
       "      <td>16297</td>\n",
       "      <td>894955</td>\n",
       "      <td>171</td>\n",
       "      <td>425205959</td>\n",
       "      <td>9.780425e+12</td>\n",
       "      <td>Agatha Christie</td>\n",
       "      <td>1936.0</td>\n",
       "      <td>Cards on the Table</td>\n",
       "      <td>...</td>\n",
       "      <td>19577</td>\n",
       "      <td>23004</td>\n",
       "      <td>1031</td>\n",
       "      <td>112</td>\n",
       "      <td>857</td>\n",
       "      <td>6468</td>\n",
       "      <td>9372</td>\n",
       "      <td>6195</td>\n",
       "      <td>https://s.gr-assets.com/assets/nophoto/book/11...</td>\n",
       "      <td>https://s.gr-assets.com/assets/nophoto/book/50...</td>\n",
       "    </tr>\n",
       "    <tr>\n",
       "      <th>7659</th>\n",
       "      <td>7660</td>\n",
       "      <td>21330</td>\n",
       "      <td>21330</td>\n",
       "      <td>2910</td>\n",
       "      <td>15</td>\n",
       "      <td>1401204864</td>\n",
       "      <td>9.781401e+12</td>\n",
       "      <td>Bill Willingham, Mark Buckingham, Steve Leialo...</td>\n",
       "      <td>2005.0</td>\n",
       "      <td>Fables, Volume 5: The Mean Seasons</td>\n",
       "      <td>...</td>\n",
       "      <td>17909</td>\n",
       "      <td>18221</td>\n",
       "      <td>545</td>\n",
       "      <td>120</td>\n",
       "      <td>340</td>\n",
       "      <td>2889</td>\n",
       "      <td>7435</td>\n",
       "      <td>7437</td>\n",
       "      <td>https://images.gr-assets.com/books/1327870458m...</td>\n",
       "      <td>https://images.gr-assets.com/books/1327870458s...</td>\n",
       "    </tr>\n",
       "    <tr>\n",
       "      <th>8257</th>\n",
       "      <td>8258</td>\n",
       "      <td>18594594</td>\n",
       "      <td>18594594</td>\n",
       "      <td>26341000</td>\n",
       "      <td>41</td>\n",
       "      <td>345547497</td>\n",
       "      <td>9.780346e+12</td>\n",
       "      <td>Karin Slaughter</td>\n",
       "      <td>2014.0</td>\n",
       "      <td>Cop Town</td>\n",
       "      <td>...</td>\n",
       "      <td>10660</td>\n",
       "      <td>13997</td>\n",
       "      <td>1704</td>\n",
       "      <td>274</td>\n",
       "      <td>780</td>\n",
       "      <td>3299</td>\n",
       "      <td>5612</td>\n",
       "      <td>4032</td>\n",
       "      <td>https://images.gr-assets.com/books/1384822680m...</td>\n",
       "      <td>https://images.gr-assets.com/books/1384822680s...</td>\n",
       "    </tr>\n",
       "    <tr>\n",
       "      <th>8997</th>\n",
       "      <td>8998</td>\n",
       "      <td>292740</td>\n",
       "      <td>292740</td>\n",
       "      <td>2457130</td>\n",
       "      <td>37</td>\n",
       "      <td>2266071289</td>\n",
       "      <td>9.782266e+12</td>\n",
       "      <td>Lorenzo Carcaterra</td>\n",
       "      <td>1995.0</td>\n",
       "      <td>Sleepers</td>\n",
       "      <td>...</td>\n",
       "      <td>9560</td>\n",
       "      <td>10772</td>\n",
       "      <td>553</td>\n",
       "      <td>73</td>\n",
       "      <td>304</td>\n",
       "      <td>1775</td>\n",
       "      <td>4088</td>\n",
       "      <td>4532</td>\n",
       "      <td>https://images.gr-assets.com/books/1327871596m...</td>\n",
       "      <td>https://images.gr-assets.com/books/1327871596s...</td>\n",
       "    </tr>\n",
       "    <tr>\n",
       "      <th>9516</th>\n",
       "      <td>9517</td>\n",
       "      <td>17810</td>\n",
       "      <td>17810</td>\n",
       "      <td>856346</td>\n",
       "      <td>39</td>\n",
       "      <td>NaN</td>\n",
       "      <td>9.780143e+12</td>\n",
       "      <td>Ryū Murakami, Ralph McCarthy</td>\n",
       "      <td>1997.0</td>\n",
       "      <td>イン ザ・ミソスープ</td>\n",
       "      <td>...</td>\n",
       "      <td>9285</td>\n",
       "      <td>11545</td>\n",
       "      <td>950</td>\n",
       "      <td>313</td>\n",
       "      <td>1107</td>\n",
       "      <td>3586</td>\n",
       "      <td>4346</td>\n",
       "      <td>2193</td>\n",
       "      <td>https://images.gr-assets.com/books/1309282509m...</td>\n",
       "      <td>https://images.gr-assets.com/books/1309282509s...</td>\n",
       "    </tr>\n",
       "  </tbody>\n",
       "</table>\n",
       "<p>5 rows × 23 columns</p>\n",
       "</div>"
      ],
      "text/plain": [
       "        id   book_id  best_book_id   work_id  books_count        isbn  \\\n",
       "5857  5858     16297         16297    894955          171   425205959   \n",
       "7659  7660     21330         21330      2910           15  1401204864   \n",
       "8257  8258  18594594      18594594  26341000           41   345547497   \n",
       "8997  8998    292740        292740   2457130           37  2266071289   \n",
       "9516  9517     17810         17810    856346           39         NaN   \n",
       "\n",
       "            isbn13                                            authors  \\\n",
       "5857  9.780425e+12                                    Agatha Christie   \n",
       "7659  9.781401e+12  Bill Willingham, Mark Buckingham, Steve Leialo...   \n",
       "8257  9.780346e+12                                    Karin Slaughter   \n",
       "8997  9.782266e+12                                 Lorenzo Carcaterra   \n",
       "9516  9.780143e+12                       Ryū Murakami, Ralph McCarthy   \n",
       "\n",
       "      original_publication_year                      original_title  \\\n",
       "5857                     1936.0                  Cards on the Table   \n",
       "7659                     2005.0  Fables, Volume 5: The Mean Seasons   \n",
       "8257                     2014.0                            Cop Town   \n",
       "8997                     1995.0                            Sleepers   \n",
       "9516                     1997.0                          イン ザ・ミソスープ   \n",
       "\n",
       "                            ...                         ratings_count  \\\n",
       "5857                        ...                                 19577   \n",
       "7659                        ...                                 17909   \n",
       "8257                        ...                                 10660   \n",
       "8997                        ...                                  9560   \n",
       "9516                        ...                                  9285   \n",
       "\n",
       "     work_ratings_count  work_text_reviews_count  ratings_1  ratings_2  \\\n",
       "5857              23004                     1031        112        857   \n",
       "7659              18221                      545        120        340   \n",
       "8257              13997                     1704        274        780   \n",
       "8997              10772                      553         73        304   \n",
       "9516              11545                      950        313       1107   \n",
       "\n",
       "      ratings_3  ratings_4  ratings_5  \\\n",
       "5857       6468       9372       6195   \n",
       "7659       2889       7435       7437   \n",
       "8257       3299       5612       4032   \n",
       "8997       1775       4088       4532   \n",
       "9516       3586       4346       2193   \n",
       "\n",
       "                                              image_url  \\\n",
       "5857  https://s.gr-assets.com/assets/nophoto/book/11...   \n",
       "7659  https://images.gr-assets.com/books/1327870458m...   \n",
       "8257  https://images.gr-assets.com/books/1384822680m...   \n",
       "8997  https://images.gr-assets.com/books/1327871596m...   \n",
       "9516  https://images.gr-assets.com/books/1309282509m...   \n",
       "\n",
       "                                        small_image_url  \n",
       "5857  https://s.gr-assets.com/assets/nophoto/book/50...  \n",
       "7659  https://images.gr-assets.com/books/1327870458s...  \n",
       "8257  https://images.gr-assets.com/books/1384822680s...  \n",
       "8997  https://images.gr-assets.com/books/1327871596s...  \n",
       "9516  https://images.gr-assets.com/books/1309282509s...  \n",
       "\n",
       "[5 rows x 23 columns]"
      ]
     },
     "execution_count": 26,
     "metadata": {},
     "output_type": "execute_result"
    }
   ],
   "source": [
    "books[books['id'].isin(recommended_book_ids)]"
   ]
  }
 ],
 "metadata": {
  "kernelspec": {
   "display_name": "Python 3",
   "language": "python",
   "name": "python3"
  },
  "language_info": {
   "codemirror_mode": {
    "name": "ipython",
    "version": 3
   },
   "file_extension": ".py",
   "mimetype": "text/x-python",
   "name": "python",
   "nbconvert_exporter": "python",
   "pygments_lexer": "ipython3",
   "version": "3.6.7"
  }
 },
 "nbformat": 4,
 "nbformat_minor": 2
}
